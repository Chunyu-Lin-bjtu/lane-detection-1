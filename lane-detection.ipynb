{
 "cells": [
  {
   "cell_type": "code",
   "execution_count": 23,
   "metadata": {},
   "outputs": [
    {
     "name": "stdout",
     "output_type": "stream",
     "text": [
      "[ 1.41044894e+06 -3.60886602e+05  2.34505300e+02  2.55000000e+02]\n"
     ]
    }
   ],
   "source": [
    "import copy\n",
    "import numpy as np\n",
    "import pyproj as pj\n",
    "\n",
    "\n",
    "def get_xy(lat, lon):\n",
    "    \n",
    "    # setup your projections\n",
    "    crs_wgs = pj.Proj(init='epsg:4326') # assuming you're using WGS84 geographic\n",
    "    crs_bng = pj.Proj(init='epsg:27700') # use a locally appropriate projected CRS\n",
    "\n",
    "    # then cast your geographic coordinate pair to the projected system\n",
    "    x, y = pj.transform(crs_wgs, crs_bng, lon, lat)\n",
    "    \n",
    "    return x, y\n",
    "\n",
    "def normalize(i):\n",
    "    return i/np.linalg.norm(i)\n",
    "\n",
    "file = open(\"final_project_point_cloud.fuse\", \"r\")\n",
    "txt_data = file.readlines()\n",
    "\n",
    "raw_data = np.zeros((len(txt_data), len(txt_data[0].split())))\n",
    "xyz_data = np.zeros((len(txt_data), len(txt_data[0].split())))\n",
    "\n",
    "for idx, line in enumerate(txt_data):\n",
    "    raw_data[idx,:] = line.split()\n",
    "    xyz_data[idx,:] = copy.deepcopy(raw_data[idx,:])\n",
    "    \n",
    "x, y = get_xy(xyz_data[:, 0], xyz_data[:, 1])\n",
    "xyz_data[:, 0] = np.array(x)\n",
    "xyz_data[:, 1] = np.array(y)\n",
    "\n",
    "print np.amax(xyz_data, axis=0)\n"
   ]
  },
  {
   "cell_type": "code",
   "execution_count": null,
   "metadata": {
    "collapsed": true
   },
   "outputs": [],
   "source": []
  }
 ],
 "metadata": {
  "kernelspec": {
   "display_name": "Python 2",
   "language": "python",
   "name": "python2"
  },
  "language_info": {
   "codemirror_mode": {
    "name": "ipython",
    "version": 2
   },
   "file_extension": ".py",
   "mimetype": "text/x-python",
   "name": "python",
   "nbconvert_exporter": "python",
   "pygments_lexer": "ipython2",
   "version": "2.7.15"
  }
 },
 "nbformat": 4,
 "nbformat_minor": 2
}
